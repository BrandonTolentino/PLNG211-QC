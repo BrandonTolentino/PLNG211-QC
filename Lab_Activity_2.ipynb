{
  "nbformat": 4,
  "nbformat_minor": 0,
  "metadata": {
    "colab": {
      "provenance": [],
      "authorship_tag": "ABX9TyN+oAZvCDTAion/bl5XR/Nw",
      "include_colab_link": true
    },
    "kernelspec": {
      "name": "python3",
      "display_name": "Python 3"
    },
    "language_info": {
      "name": "python"
    }
  },
  "cells": [
    {
      "cell_type": "markdown",
      "metadata": {
        "id": "view-in-github",
        "colab_type": "text"
      },
      "source": [
        "<a href=\"https://colab.research.google.com/github/BrandonTolentino/PLNG211-QC/blob/main/Lab_Activity_2.ipynb\" target=\"_parent\"><img src=\"https://colab.research.google.com/assets/colab-badge.svg\" alt=\"Open In Colab\"/></a>"
      ]
    },
    {
      "cell_type": "code",
      "execution_count": 2,
      "metadata": {
        "colab": {
          "base_uri": "https://localhost:8080/"
        },
        "id": "V9BZIQC2XzN7",
        "outputId": "ba869f35-ad40-45c5-8116-de8b09fd9a9b"
      },
      "outputs": [
        {
          "output_type": "stream",
          "name": "stdout",
          "text": [
            "Name: James Brandon Hinanay Tolentino\n",
            "Student Number: 0219-4509-372\n",
            "Age: 21\n",
            "School: Our Lady of Fatima University\n",
            "Course: BS in Computer Science\n"
          ]
        }
      ],
      "source": [
        "class Student:\n",
        "\n",
        "  def __init__(student, Name, Student_No , Age, School, Course):\n",
        "    student.name = Name\n",
        "    student.Student_No = Student_No\n",
        "    student.Age = Age\n",
        "    student.School = School\n",
        "    student.Course = Course\n",
        "\n",
        "  def info(student):\n",
        "    print(\"Name:\",student.name)\n",
        "    print(\"Student Number:\",student.Student_No)\n",
        "    print(\"Age:\",student.Age)\n",
        "    print(\"School:\", student.School)\n",
        "    print(\"Course:\", student.Course)\n",
        "\n",
        "Myself = Student(\"James Brandon Hinanay Tolentino\", \"0219-4509-372\", 21, \"Our Lady of Fatima University\", \"BS in Computer Science\")\n",
        "Myself.info()"
      ]
    }
  ]
}