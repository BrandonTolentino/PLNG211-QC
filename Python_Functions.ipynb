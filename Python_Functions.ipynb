{
  "nbformat": 4,
  "nbformat_minor": 0,
  "metadata": {
    "colab": {
      "provenance": [],
      "authorship_tag": "ABX9TyPBXaV/yAa8m9lKCHiCjqNk",
      "include_colab_link": true
    },
    "kernelspec": {
      "name": "python3",
      "display_name": "Python 3"
    },
    "language_info": {
      "name": "python"
    }
  },
  "cells": [
    {
      "cell_type": "markdown",
      "metadata": {
        "id": "view-in-github",
        "colab_type": "text"
      },
      "source": [
        "<a href=\"https://colab.research.google.com/github/BrandonTolentino/PLNG211-QC/blob/main/Python_Functions.ipynb\" target=\"_parent\"><img src=\"https://colab.research.google.com/assets/colab-badge.svg\" alt=\"Open In Colab\"/></a>"
      ]
    },
    {
      "cell_type": "code",
      "execution_count": 3,
      "metadata": {
        "colab": {
          "base_uri": "https://localhost:8080/"
        },
        "id": "aYspoo32niBj",
        "outputId": "5655fc12-5389-493b-bc72-c755d8c6a0e5"
      },
      "outputs": [
        {
          "output_type": "stream",
          "name": "stdout",
          "text": [
            "200\n",
            "Celsius 93.33\n",
            "Kelvin 366.48\n"
          ]
        }
      ],
      "source": [
        "def convert_to_celsius(fahrenheit):\n",
        "  return (fahrenheit - 32) * 5/9\n",
        "\n",
        "def convert_to_kelvin(fahrenheit):\n",
        "  return ((fahrenheit -32)*5/9) + 273.15\n",
        "fahrenheit = int(input())\n",
        "\n",
        "print(\"Celsius\",round(convert_to_celsius(fahrenheit),2))\n",
        "print(\"Kelvin\",round(convert_to_kelvin(fahrenheit),2))\n"
      ]
    },
    {
      "cell_type": "code",
      "source": [
        "def Name():\n",
        "  pass"
      ],
      "metadata": {
        "id": "_Juw0WHkpjG4"
      },
      "execution_count": null,
      "outputs": []
    },
    {
      "cell_type": "code",
      "source": [
        "def my_function(fname):\n",
        "  return(fname + \"Sayo \")\n",
        "\n",
        "my_function(\" Mam\")\n",
        "my_function(\" Maria\")\n",
        "my_function(\" Rizette\")"
      ],
      "metadata": {
        "colab": {
          "base_uri": "https://localhost:8080/",
          "height": 36
        },
        "id": "O6m3Lx0Os8jN",
        "outputId": "ece73aeb-f3bc-4f68-c220-439206d7a81f"
      },
      "execution_count": 4,
      "outputs": [
        {
          "output_type": "execute_result",
          "data": {
            "text/plain": [
              "' RizetteSayo '"
            ],
            "application/vnd.google.colaboratory.intrinsic+json": {
              "type": "string"
            }
          },
          "metadata": {},
          "execution_count": 4
        }
      ]
    },
    {
      "cell_type": "code",
      "source": [
        "#Returns a value\n",
        "\n",
        "def myFunction(x):\n",
        "  return(5 + x)\n",
        "print(myFunction(4))\n",
        "print(myFunction(5))\n",
        "print(myFunction(6))"
      ],
      "metadata": {
        "colab": {
          "base_uri": "https://localhost:8080/"
        },
        "id": "N3QKLAuQtHC6",
        "outputId": "4fe6fe60-e265-46e7-b918-9cc6f17be849"
      },
      "execution_count": 5,
      "outputs": [
        {
          "output_type": "stream",
          "name": "stdout",
          "text": [
            "9\n",
            "10\n",
            "11\n"
          ]
        }
      ]
    },
    {
      "cell_type": "code",
      "source": [
        "#Exercise 1\n",
        "\n",
        "print(min(2,3,4))\n",
        "print(max(2, -3, 4, 7, -5))\n",
        "print(max(2,-3,min(4,7), -5))"
      ],
      "metadata": {
        "colab": {
          "base_uri": "https://localhost:8080/"
        },
        "id": "U47fYVf8tYQN",
        "outputId": "848eaaf4-5a3f-4913-cdbb-a5df4ff221cd"
      },
      "execution_count": 6,
      "outputs": [
        {
          "output_type": "stream",
          "name": "stdout",
          "text": [
            "2\n",
            "7\n",
            "4\n"
          ]
        }
      ]
    },
    {
      "cell_type": "code",
      "source": [
        "#Exercise 2\n",
        "def sum_function(a, b, c):\n",
        "  return(a+b+c)\n",
        "\n",
        "def avg_function(a, b, c): \n",
        "  return((a+b+c)/3)\n",
        "\n",
        "def sumsquares(a, b, c):\n",
        "  return(pow(a,2)+pow(b,2)+pow(c,2))\n",
        "\n",
        "a = int(input(\"int 1: \"))\n",
        "b = int(input(\"int 2: \"))\n",
        "c = int(input(\"int 3: \"))\n",
        "\n",
        "print(\"Sum: \",sum_function(a,b,c))\n",
        "print(\"Avergae: \",avg_function(a,b,c))\n",
        "print(\"Sum of squares: \",sumsquares(a,b,c))"
      ],
      "metadata": {
        "colab": {
          "base_uri": "https://localhost:8080/"
        },
        "id": "O-fr3PuQta6x",
        "outputId": "52279c01-c7a6-45aa-d43f-cf677c50cde3"
      },
      "execution_count": 7,
      "outputs": [
        {
          "output_type": "stream",
          "name": "stdout",
          "text": [
            "int 1: 3\n",
            "int 2: 5\n",
            "int 3: 2\n",
            "Sum:  10\n",
            "Avergae:  3.3333333333333335\n",
            "Sum of squares:  38\n"
          ]
        }
      ]
    }
  ]
}