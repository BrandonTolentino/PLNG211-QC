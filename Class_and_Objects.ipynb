{
  "nbformat": 4,
  "nbformat_minor": 0,
  "metadata": {
    "colab": {
      "provenance": [],
      "authorship_tag": "ABX9TyP+2K6VgEmk8Il47Qykjdij",
      "include_colab_link": true
    },
    "kernelspec": {
      "name": "python3",
      "display_name": "Python 3"
    },
    "language_info": {
      "name": "python"
    }
  },
  "cells": [
    {
      "cell_type": "markdown",
      "metadata": {
        "id": "view-in-github",
        "colab_type": "text"
      },
      "source": [
        "<a href=\"https://colab.research.google.com/github/BrandonTolentino/PLNG211-QC/blob/main/Class_and_Objects.ipynb\" target=\"_parent\"><img src=\"https://colab.research.google.com/assets/colab-badge.svg\" alt=\"Open In Colab\"/></a>"
      ]
    },
    {
      "cell_type": "code",
      "execution_count": 4,
      "metadata": {
        "colab": {
          "base_uri": "https://localhost:8080/"
        },
        "id": "ikUjkcvvS3vR",
        "outputId": "e391d3fc-9c30-4415-9384-f8e814a3ef75"
      },
      "outputs": [
        {
          "output_type": "stream",
          "name": "stdout",
          "text": [
            "Enter width of rectangle: 10\n",
            "Enter length of rectangle: 15\n",
            "The area of rectangle is : 150\n",
            "The perimeter of rectangle is : 50\n"
          ]
        }
      ],
      "source": [
        "class rectangle():\n",
        "    def __init__(rec, width, length):\n",
        "        rec.width = width\n",
        "        rec.length = length\n",
        "\n",
        "    def perimeter(rec):\n",
        "      return (rec.width + rec.length) * 2\n",
        "\n",
        "    def area(rec):\n",
        "        return rec.width * rec.length\n",
        "\n",
        "recWidth = int(input(\"Enter width of rectangle: \"))\n",
        "recLength = int(input(\"Enter length of rectangle: \"))\n",
        "\n",
        "rectangleAreaPerim = rectangle(recWidth, recLength)\n",
        "\n",
        "print(\"The area of rectangle is :\", rectangleAreaPerim.area())\n",
        "print(\"The perimeter of rectangle is :\", rectangleAreaPerim.perimeter())"
      ]
    }
  ]
}