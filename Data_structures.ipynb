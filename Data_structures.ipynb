{
  "nbformat": 4,
  "nbformat_minor": 0,
  "metadata": {
    "colab": {
      "provenance": [],
      "authorship_tag": "ABX9TyOerKf5oiACXk0FGcqod2ZB",
      "include_colab_link": true
    },
    "kernelspec": {
      "name": "python3",
      "display_name": "Python 3"
    },
    "language_info": {
      "name": "python"
    }
  },
  "cells": [
    {
      "cell_type": "markdown",
      "metadata": {
        "id": "view-in-github",
        "colab_type": "text"
      },
      "source": [
        "<a href=\"https://colab.research.google.com/github/BrandonTolentino/PLNG211-QC/blob/main/Data_structures.ipynb\" target=\"_parent\"><img src=\"https://colab.research.google.com/assets/colab-badge.svg\" alt=\"Open In Colab\"/></a>"
      ]
    },
    {
      "cell_type": "code",
      "execution_count": null,
      "metadata": {
        "id": "VtnnRTHi8wqW"
      },
      "outputs": [],
      "source": [
        "Boolean Conditions (BooleanCond)"
      ]
    },
    {
      "cell_type": "code",
      "source": [
        "x = True\n",
        "if x:\n",
        "  print(\"var x is True\")\n",
        "else:\n",
        "  print(\"var x is False\")"
      ],
      "metadata": {
        "colab": {
          "base_uri": "https://localhost:8080/"
        },
        "id": "jpz3tnFq87cL",
        "outputId": "94de744b-8c30-450c-9877-1562c033336a"
      },
      "execution_count": 1,
      "outputs": [
        {
          "output_type": "stream",
          "name": "stdout",
          "text": [
            "var x is True\n"
          ]
        }
      ]
    },
    {
      "cell_type": "markdown",
      "source": [
        "String Conditions (StringCond)"
      ],
      "metadata": {
        "id": "HtFvAYWW9AFN"
      }
    },
    {
      "cell_type": "code",
      "source": [
        "x = \"Hello World!\"\n",
        "\n",
        "if x == 'Hello World!':\n",
        "  print(\"var x is Hello World!\")\n",
        "else: \n",
        "  print(\"var x is not Hello World!\")"
      ],
      "metadata": {
        "colab": {
          "base_uri": "https://localhost:8080/"
        },
        "id": "1EoW_CPZ9HCV",
        "outputId": "30b5abae-19d1-40c2-8f7c-a03bfadd2216"
      },
      "execution_count": 2,
      "outputs": [
        {
          "output_type": "stream",
          "name": "stdout",
          "text": [
            "var x is Hello World!\n"
          ]
        }
      ]
    },
    {
      "cell_type": "markdown",
      "source": [
        "Numerical Conditions"
      ],
      "metadata": {
        "id": "ZMVqm0kU9Otx"
      }
    },
    {
      "cell_type": "code",
      "source": [
        "x = 10\n",
        "\n",
        "if x == '10':\n",
        "  print(\"var x is a string\")\n",
        "elif x == 10:\n",
        "  print(\"var x is an integer\")\n",
        "else:\n",
        "  print(\"var x is none of the above\")"
      ],
      "metadata": {
        "colab": {
          "base_uri": "https://localhost:8080/"
        },
        "id": "40FlI1DG9TKR",
        "outputId": "8f694cb9-fbc6-48c8-ee8f-ac2cd60d01a2"
      },
      "execution_count": 3,
      "outputs": [
        {
          "output_type": "stream",
          "name": "stdout",
          "text": [
            "var x is an integer\n"
          ]
        }
      ]
    },
    {
      "cell_type": "markdown",
      "source": [
        "ForLoops"
      ],
      "metadata": {
        "id": "FYQWOhYJ9XBG"
      }
    },
    {
      "cell_type": "code",
      "source": [
        "for var in range(0,5,2):\n",
        "  print(var)"
      ],
      "metadata": {
        "colab": {
          "base_uri": "https://localhost:8080/"
        },
        "id": "VWtCaLvR9azt",
        "outputId": "b8cb931d-e096-4260-a147-bf6e5d001c11"
      },
      "execution_count": 4,
      "outputs": [
        {
          "output_type": "stream",
          "name": "stdout",
          "text": [
            "0\n",
            "2\n",
            "4\n"
          ]
        }
      ]
    },
    {
      "cell_type": "markdown",
      "source": [
        "WhileLoops"
      ],
      "metadata": {
        "id": "PuZqWltu9eCm"
      }
    },
    {
      "cell_type": "code",
      "source": [
        "var=0\n",
        "while var < 5:\n",
        "  print(var)\n",
        "  var +=2"
      ],
      "metadata": {
        "colab": {
          "base_uri": "https://localhost:8080/"
        },
        "id": "malijhoy9fVp",
        "outputId": "c6fae078-1513-4af7-cf32-8a8e2153c49f"
      },
      "execution_count": 5,
      "outputs": [
        {
          "output_type": "stream",
          "name": "stdout",
          "text": [
            "0\n",
            "2\n",
            "4\n"
          ]
        }
      ]
    },
    {
      "cell_type": "markdown",
      "source": [
        "NestedLoops"
      ],
      "metadata": {
        "id": "c1fBR4Lp9hkk"
      }
    },
    {
      "cell_type": "code",
      "source": [
        "x = 0\n",
        "while x<5:\n",
        "  for y in range (0,x):\n",
        "    print(y,end='')\n",
        "  x+=1\n",
        "  print()"
      ],
      "metadata": {
        "colab": {
          "base_uri": "https://localhost:8080/"
        },
        "id": "ln3_L-i49i6W",
        "outputId": "8ec4b20b-5db5-47ca-b640-ffd8e4f097ce"
      },
      "execution_count": 6,
      "outputs": [
        {
          "output_type": "stream",
          "name": "stdout",
          "text": [
            "\n",
            "0\n",
            "01\n",
            "012\n",
            "0123\n"
          ]
        }
      ]
    },
    {
      "cell_type": "code",
      "source": [
        "pi = 3.14159\n",
        "varList = [1, 2, 'A', 'B', 'Hello!', pi]\n",
        "print(varList[0])"
      ],
      "metadata": {
        "colab": {
          "base_uri": "https://localhost:8080/"
        },
        "id": "VhlqlavH9o2L",
        "outputId": "767e8780-ad4a-4fc3-9934-cc095f2c119e"
      },
      "execution_count": 7,
      "outputs": [
        {
          "output_type": "stream",
          "name": "stdout",
          "text": [
            "1\n"
          ]
        }
      ]
    },
    {
      "cell_type": "code",
      "source": [
        "print(varList[4])"
      ],
      "metadata": {
        "colab": {
          "base_uri": "https://localhost:8080/"
        },
        "id": "-aZFPTRI9rMH",
        "outputId": "0b527559-e595-4626-fe46-7258077fa01a"
      },
      "execution_count": 11,
      "outputs": [
        {
          "output_type": "stream",
          "name": "stdout",
          "text": [
            "Hello!\n"
          ]
        }
      ]
    },
    {
      "cell_type": "code",
      "source": [
        "varList.append('world!')\n",
        "print(varList[6])"
      ],
      "metadata": {
        "colab": {
          "base_uri": "https://localhost:8080/"
        },
        "id": "Jy3ydSTx9svw",
        "outputId": "382d8278-3e4d-4772-f071-c053fdaf3f85"
      },
      "execution_count": 10,
      "outputs": [
        {
          "output_type": "stream",
          "name": "stdout",
          "text": [
            "world!\n"
          ]
        }
      ]
    },
    {
      "cell_type": "markdown",
      "source": [
        "Slicing"
      ],
      "metadata": {
        "id": "VQJM4y22-C8J"
      }
    },
    {
      "cell_type": "code",
      "source": [
        "varList = [1,2,3,4,5,6,7,8,9,10]\n",
        "print(varList[:5])"
      ],
      "metadata": {
        "colab": {
          "base_uri": "https://localhost:8080/"
        },
        "id": "NDI2Ta3G-ETb",
        "outputId": "ef3ae28f-596d-4b8e-aab1-9fd3804f1471"
      },
      "execution_count": 12,
      "outputs": [
        {
          "output_type": "stream",
          "name": "stdout",
          "text": [
            "[1, 2, 3, 4, 5]\n"
          ]
        }
      ]
    },
    {
      "cell_type": "code",
      "source": [
        "print(varList[:5])"
      ],
      "metadata": {
        "colab": {
          "base_uri": "https://localhost:8080/"
        },
        "id": "H_BFSXec-GsT",
        "outputId": "c07f80ef-7d7b-470c-be66-f09682018d1f"
      },
      "execution_count": 13,
      "outputs": [
        {
          "output_type": "stream",
          "name": "stdout",
          "text": [
            "[1, 2, 3, 4, 5]\n"
          ]
        }
      ]
    },
    {
      "cell_type": "code",
      "source": [
        "print(varList[-2])"
      ],
      "metadata": {
        "colab": {
          "base_uri": "https://localhost:8080/"
        },
        "id": "FDgzYIJp-KbY",
        "outputId": "c79e74ea-8e32-48e5-913a-45604cba78d9"
      },
      "execution_count": 14,
      "outputs": [
        {
          "output_type": "stream",
          "name": "stdout",
          "text": [
            "9\n"
          ]
        }
      ]
    },
    {
      "cell_type": "code",
      "source": [
        "print(varList[-2:])"
      ],
      "metadata": {
        "colab": {
          "base_uri": "https://localhost:8080/"
        },
        "id": "kJHep_Su-MJq",
        "outputId": "7bcc2558-a40f-4a4c-cc88-dc5712a57d67"
      },
      "execution_count": 15,
      "outputs": [
        {
          "output_type": "stream",
          "name": "stdout",
          "text": [
            "[9, 10]\n"
          ]
        }
      ]
    },
    {
      "cell_type": "code",
      "source": [
        "print(varList[2:-2])"
      ],
      "metadata": {
        "colab": {
          "base_uri": "https://localhost:8080/"
        },
        "id": "7iLH5hLU-Noz",
        "outputId": "ea1d5f7d-a41a-4d90-ae61-d55ba65117f7"
      },
      "execution_count": 16,
      "outputs": [
        {
          "output_type": "stream",
          "name": "stdout",
          "text": [
            "[3, 4, 5, 6, 7, 8]\n"
          ]
        }
      ]
    },
    {
      "cell_type": "code",
      "source": [
        "print(varList[2:8:2])"
      ],
      "metadata": {
        "colab": {
          "base_uri": "https://localhost:8080/"
        },
        "id": "6iU-J5z3-PAE",
        "outputId": "0afe1a7c-ad98-43c0-d071-164af9887fca"
      },
      "execution_count": 17,
      "outputs": [
        {
          "output_type": "stream",
          "name": "stdout",
          "text": [
            "[3, 5, 7]\n"
          ]
        }
      ]
    },
    {
      "cell_type": "code",
      "source": [
        "var1 = \"ABC\"\n",
        "var2 = \"DEF\"\n",
        "var3 = \"GHI\"\n",
        "print(var1)\n",
        "print(var2)\n",
        "print(var2)\n",
        "a = b = c = \"123\"\n",
        "print(a)\n",
        "print(b)\n",
        "print(c)"
      ],
      "metadata": {
        "colab": {
          "base_uri": "https://localhost:8080/"
        },
        "id": "w9kvnCBB-RVO",
        "outputId": "34f9879c-7a2a-4c1b-a58e-38e43eca6a1c"
      },
      "execution_count": 18,
      "outputs": [
        {
          "output_type": "stream",
          "name": "stdout",
          "text": [
            "ABC\n",
            "DEF\n",
            "DEF\n",
            "123\n",
            "123\n",
            "123\n"
          ]
        }
      ]
    },
    {
      "cell_type": "markdown",
      "source": [
        "Asynchronus Activity\n",
        "\n",
        "Salary_rate = 600/day Salary = Salary_rate *15 (days) Taxable_amount = 30% of the Salary Net_pay = Salary - Taxable_amount"
      ],
      "metadata": {
        "id": "b8gezeAS-Vdp"
      }
    },
    {
      "cell_type": "code",
      "source": [
        "Salary_rate = 600\n",
        "Salary = Salary_rate *15\n",
        "Taxable_amount = 0.3 * Salary\n",
        "Net_pay = Salary - Taxable_amount\n",
        "print(\"Net pay = \",Net_pay)"
      ],
      "metadata": {
        "colab": {
          "base_uri": "https://localhost:8080/"
        },
        "id": "CIXp4fIF-XBD",
        "outputId": "58add4ec-4b31-4896-fa8d-5ea2c32ec073"
      },
      "execution_count": 19,
      "outputs": [
        {
          "output_type": "stream",
          "name": "stdout",
          "text": [
            "Net pay =  6300.0\n"
          ]
        }
      ]
    }
  ]
}