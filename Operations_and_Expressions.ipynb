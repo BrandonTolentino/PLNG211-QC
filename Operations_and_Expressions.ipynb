{
  "nbformat": 4,
  "nbformat_minor": 0,
  "metadata": {
    "colab": {
      "provenance": [],
      "authorship_tag": "ABX9TyOcJy7fQI/i1mTcuYBYsdCS"
    },
    "kernelspec": {
      "name": "python3",
      "display_name": "Python 3"
    },
    "language_info": {
      "name": "python"
    }
  },
  "cells": [
    {
      "cell_type": "markdown",
      "source": [],
      "metadata": {
        "id": "0yIRWZoNjHJu"
      }
    },
    {
      "cell_type": "markdown",
      "source": [
        "Boolean Operators"
      ],
      "metadata": {
        "id": "xGKXqoj_jIS7"
      }
    },
    {
      "cell_type": "code",
      "source": [
        "a = 6\n",
        "b = 7\n",
        "print(10>9)\n",
        "print(10<9)\n",
        "print(10==9)\n",
        "print(9==9)\n",
        "print(a!=b)\n"
      ],
      "metadata": {
        "colab": {
          "base_uri": "https://localhost:8080/"
        },
        "id": "v1-_yweWjNBR",
        "outputId": "db566795-b5a7-42d1-96eb-c90d7b6f9122"
      },
      "execution_count": 6,
      "outputs": [
        {
          "output_type": "stream",
          "name": "stdout",
          "text": [
            "True\n",
            "False\n",
            "False\n",
            "True\n",
            "True\n"
          ]
        }
      ]
    },
    {
      "cell_type": "markdown",
      "source": [
        "Bool() Function"
      ],
      "metadata": {
        "id": "gMkzLcWTkhvf"
      }
    },
    {
      "cell_type": "code",
      "source": [
        "print(bool(15))\n",
        "print(bool(\"Mario\"))\n",
        "\n",
        "print(bool())\n",
        "print(bool(0))\n",
        "print(bool(None))"
      ],
      "metadata": {
        "colab": {
          "base_uri": "https://localhost:8080/"
        },
        "id": "znITrzYMkkEK",
        "outputId": "065b4c6a-fa78-4ed3-b586-953b02ff9f8c"
      },
      "execution_count": 13,
      "outputs": [
        {
          "output_type": "stream",
          "name": "stdout",
          "text": [
            "True\n",
            "True\n",
            "False\n",
            "False\n",
            "False\n"
          ]
        }
      ]
    },
    {
      "cell_type": "markdown",
      "source": [
        "Function that returns a Boolean"
      ],
      "metadata": {
        "id": "60SWQuhrlD5T"
      }
    },
    {
      "cell_type": "code",
      "source": [
        "def firstFunction():\n",
        "  return True\n",
        "#Defining the function as true will inturn make it true\n",
        "if (firstFunction()):\n",
        "  print(\"Yes!\")\n",
        "else:\n",
        "  print(\"No!\")"
      ],
      "metadata": {
        "colab": {
          "base_uri": "https://localhost:8080/"
        },
        "id": "Nnqw1EJAlUq0",
        "outputId": "1c7badd0-d277-4f91-fc01-01711ffd22fa"
      },
      "execution_count": 17,
      "outputs": [
        {
          "output_type": "stream",
          "name": "stdout",
          "text": [
            "Yes!\n"
          ]
        }
      ]
    },
    {
      "cell_type": "markdown",
      "source": [
        "Application #1"
      ],
      "metadata": {
        "id": "bbYPjHOrmvpN"
      }
    },
    {
      "cell_type": "code",
      "source": [
        "c = 6\n",
        "d = 7\n",
        "print(c==d)\n",
        "print(c!=c)"
      ],
      "metadata": {
        "colab": {
          "base_uri": "https://localhost:8080/"
        },
        "id": "Y8xmKsdDmw2l",
        "outputId": "ca9f5175-b7ec-4af1-c9d6-68c0d1edf08f"
      },
      "execution_count": 19,
      "outputs": [
        {
          "output_type": "stream",
          "name": "stdout",
          "text": [
            "False\n",
            "False\n"
          ]
        }
      ]
    },
    {
      "cell_type": "markdown",
      "source": [
        "Python Operators"
      ],
      "metadata": {
        "id": "nH_HhEDToY22"
      }
    },
    {
      "cell_type": "code",
      "source": [
        "#Addition\n",
        "print(10+8)\n",
        "#Subtraction\n",
        "print(19-5)\n",
        "#Multiplication\n",
        "print(9*4)\n",
        "#Division\n",
        "print(10/5)\n",
        "#Floor Division\n",
        "print(21//5)\n",
        "#Modulo Division\n",
        "print(21%6)\n",
        "#Exponents\n",
        "print(4**5)"
      ],
      "metadata": {
        "colab": {
          "base_uri": "https://localhost:8080/"
        },
        "id": "BNxPSB3toaG2",
        "outputId": "d8365d2e-7354-4737-da0f-2bcbed5b90a9"
      },
      "execution_count": 27,
      "outputs": [
        {
          "output_type": "stream",
          "name": "stdout",
          "text": [
            "18\n",
            "14\n",
            "36\n",
            "2.0\n",
            "4\n",
            "3\n",
            "1024\n"
          ]
        }
      ]
    },
    {
      "cell_type": "markdown",
      "source": [
        "Python Bitwise Operators"
      ],
      "metadata": {
        "id": "9Pdkj9zYqEDK"
      }
    },
    {
      "cell_type": "code",
      "source": [
        "#Performs bit by bit operations\n",
        "e = 60\n",
        "f = 13\n",
        "e ^ f"
      ],
      "metadata": {
        "colab": {
          "base_uri": "https://localhost:8080/"
        },
        "id": "CnB-B2SuqGJX",
        "outputId": "f2df0751-3cdf-4dbb-8f6b-ca82517a062c"
      },
      "execution_count": 30,
      "outputs": [
        {
          "output_type": "execute_result",
          "data": {
            "text/plain": [
              "49"
            ]
          },
          "metadata": {},
          "execution_count": 30
        }
      ]
    },
    {
      "cell_type": "markdown",
      "source": [
        "Python Assignment Operator"
      ],
      "metadata": {
        "id": "s1vSW1v9tgvy"
      }
    },
    {
      "cell_type": "code",
      "source": [
        "x=7\n",
        "x+=4\n",
        "print(\"x =\",x)"
      ],
      "metadata": {
        "colab": {
          "base_uri": "https://localhost:8080/"
        },
        "id": "u_7Wj9JgtiNS",
        "outputId": "cae95c8f-9d67-49ba-f187-c13a9a6f94d6"
      },
      "execution_count": 34,
      "outputs": [
        {
          "output_type": "stream",
          "name": "stdout",
          "text": [
            "x = 11\n"
          ]
        }
      ]
    },
    {
      "cell_type": "markdown",
      "source": [
        "Logical Operator"
      ],
      "metadata": {
        "id": "UJpVpZ7HunvV"
      }
    },
    {
      "cell_type": "code",
      "source": [
        "(4>3) and (5==5) #and\n",
        "(6==6) or (6!=6) #or"
      ],
      "metadata": {
        "colab": {
          "base_uri": "https://localhost:8080/"
        },
        "id": "fZ8_wEcXuo7X",
        "outputId": "6f5e6e8f-f38c-4356-9e46-296fbc745c25"
      },
      "execution_count": 35,
      "outputs": [
        {
          "output_type": "execute_result",
          "data": {
            "text/plain": [
              "True"
            ]
          },
          "metadata": {},
          "execution_count": 35
        }
      ]
    },
    {
      "cell_type": "markdown",
      "source": [
        "Identify Operators"
      ],
      "metadata": {
        "id": "zht1Hp8r2CrB"
      }
    },
    {
      "cell_type": "code",
      "source": [
        "4 is 3\n",
        "7 is not 7"
      ],
      "metadata": {
        "colab": {
          "base_uri": "https://localhost:8080/"
        },
        "id": "tFShJgs_2Dui",
        "outputId": "519d88b3-0e4b-44fa-f170-a560ec8a0b4c"
      },
      "execution_count": 36,
      "outputs": [
        {
          "output_type": "execute_result",
          "data": {
            "text/plain": [
              "False"
            ]
          },
          "metadata": {},
          "execution_count": 36
        }
      ]
    }
  ]
}